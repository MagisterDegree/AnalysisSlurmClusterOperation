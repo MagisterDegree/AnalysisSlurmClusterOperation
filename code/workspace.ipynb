{
 "cells": [
  {
   "cell_type": "code",
   "execution_count": 12,
   "metadata": {
    "collapsed": true
   },
   "outputs": [],
   "source": [
    "import pandas as pd"
   ]
  },
  {
   "cell_type": "code",
   "execution_count": 13,
   "outputs": [],
   "source": [
    "path_job_info = '../files/slurm_jobinfo.csv'\n",
    "df_job_info = pd.read_csv(path_job_info, low_memory=False)"
   ],
   "metadata": {
    "collapsed": false
   }
  },
  {
   "cell_type": "code",
   "execution_count": 21,
   "outputs": [
    {
     "data": {
      "text/plain": "    Unnamed: 0    JobID                                 JobName  \\\n0            0  2021931  0031_EVPFI_linear_model_part4_467_1.js   \n1            1  2021973  0031_EVPFI_linear_model_part4_508_1.js   \n2            2  2021960  0031_EVPFI_linear_model_part4_495_1.js   \n3            3  2021934  0031_EVPFI_linear_model_part4_470_1.js   \n4            4  2021976  0031_EVPFI_linear_model_part4_511_1.js   \n5            5  2021932  0031_EVPFI_linear_model_part4_468_1.js   \n6            6  2021942  0031_EVPFI_linear_model_part4_478_1.js   \n7            7  2021939  0031_EVPFI_linear_model_part4_475_1.js   \n8            8  2021945  0031_EVPFI_linear_model_part4_480_1.js   \n9            9  2021938  0031_EVPFI_linear_model_part4_474_1.js   \n10          10  2021941  0031_EVPFI_linear_model_part4_477_1.js   \n11          11  2021929  0031_EVPFI_linear_model_part4_465_1.js   \n12          12  2021940  0031_EVPFI_linear_model_part4_476_1.js   \n13          13  2021927  0031_EVPFI_linear_model_part4_463_1.js   \n14          14  2021943  0031_EVPFI_linear_model_part4_479_1.js   \n15          15  2021948  0031_EVPFI_linear_model_part4_483_1.js   \n16          16  2021925  0031_EVPFI_linear_model_part4_461_1.js   \n17          17  2021930  0031_EVPFI_linear_model_part4_466_1.js   \n18          18  2021966  0031_EVPFI_linear_model_part4_501_1.js   \n19          19  2021962  0031_EVPFI_linear_model_part4_497_1.js   \n20          20  2021936  0031_EVPFI_linear_model_part4_472_1.js   \n\n           UserID           GroupID MCS_label Priority  Nice  Account  \\\n0   gramsn(50619)  geovation(50218)       NaN     3470   0.0  g2admin   \n1   gramsn(50619)  geovation(50218)       NaN     3470   0.0  g2admin   \n2   gramsn(50619)  geovation(50218)       NaN     3470   0.0  g2admin   \n3   gramsn(50619)  geovation(50218)       NaN     3470   0.0  g2admin   \n4   gramsn(50619)  geovation(50218)       NaN     3470   0.0  g2admin   \n5   gramsn(50619)  geovation(50218)       NaN     3470   0.0  g2admin   \n6   gramsn(50619)  geovation(50218)       NaN     3470   0.0  g2admin   \n7   gramsn(50619)  geovation(50218)       NaN     3470   0.0  g2admin   \n8   gramsn(50619)  geovation(50218)       NaN     3470   0.0  g2admin   \n9   gramsn(50619)  geovation(50218)       NaN     3470   0.0  g2admin   \n10  gramsn(50619)  geovation(50218)       NaN     3470   0.0  g2admin   \n11  gramsn(50619)  geovation(50218)       NaN     3470   0.0  g2admin   \n12  gramsn(50619)  geovation(50218)       NaN     3470   0.0  g2admin   \n13  gramsn(50619)  geovation(50218)       NaN     3470   0.0  g2admin   \n14  gramsn(50619)  geovation(50218)       NaN     3470   0.0  g2admin   \n15  gramsn(50619)  geovation(50218)       NaN     3470   0.0  g2admin   \n16  gramsn(50619)  geovation(50218)       NaN     3470   0.0  g2admin   \n17  gramsn(50619)  geovation(50218)       NaN     3470   0.0  g2admin   \n18  gramsn(50619)  geovation(50218)       NaN     3470   0.0  g2admin   \n19  gramsn(50619)  geovation(50218)       NaN     3470   0.0  g2admin   \n20  gramsn(50619)  geovation(50218)       NaN     3470   0.0  g2admin   \n\n         QOS  ...                                         Contiguous Licenses  \\\n0   contract  ...  agc_g22020@nms:4,attrmath_g22020@nms:2,brden_g...   (null)   \n1   contract  ...  agc_g22020@nms:4,attrmath_g22020@nms:2,brden_g...   (null)   \n2   contract  ...  agc_g22020@nms:4,attrmath_g22020@nms:2,brden_g...   (null)   \n3   contract  ...  agc_g22020@nms:4,attrmath_g22020@nms:2,brden_g...   (null)   \n4   contract  ...  agc_g22020@nms:4,attrmath_g22020@nms:2,brden_g...   (null)   \n5   contract  ...  agc_g22020@nms:4,attrmath_g22020@nms:2,brden_g...   (null)   \n6   contract  ...  agc_g22020@nms:4,attrmath_g22020@nms:2,brden_g...   (null)   \n7   contract  ...  agc_g22020@nms:4,attrmath_g22020@nms:2,brden_g...   (null)   \n8   contract  ...  agc_g22020@nms:4,attrmath_g22020@nms:2,brden_g...   (null)   \n9   contract  ...  agc_g22020@nms:4,attrmath_g22020@nms:2,brden_g...   (null)   \n10  contract  ...  agc_g22020@nms:4,attrmath_g22020@nms:2,brden_g...   (null)   \n11  contract  ...  agc_g22020@nms:4,attrmath_g22020@nms:2,brden_g...   (null)   \n12  contract  ...  agc_g22020@nms:4,attrmath_g22020@nms:2,brden_g...   (null)   \n13  contract  ...  agc_g22020@nms:4,attrmath_g22020@nms:2,brden_g...   (null)   \n14  contract  ...  agc_g22020@nms:4,attrmath_g22020@nms:2,brden_g...   (null)   \n15  contract  ...  agc_g22020@nms:4,attrmath_g22020@nms:2,brden_g...   (null)   \n16  contract  ...  agc_g22020@nms:4,attrmath_g22020@nms:2,brden_g...   (null)   \n17  contract  ...  agc_g22020@nms:4,attrmath_g22020@nms:2,brden_g...   (null)   \n18  contract  ...  agc_g22020@nms:4,attrmath_g22020@nms:2,brden_g...   (null)   \n19  contract  ...  agc_g22020@nms:4,attrmath_g22020@nms:2,brden_g...   (null)   \n20  contract  ...  agc_g22020@nms:4,attrmath_g22020@nms:2,brden_g...   (null)   \n\n                                              Network                Command  \\\n0   /tpa/slurm/0031_EVPFI_linear_model_part4_467_1...  /lustre/tpa/slurm/run   \n1   /tpa/slurm/0031_EVPFI_linear_model_part4_508_1...  /lustre/tpa/slurm/run   \n2   /tpa/slurm/0031_EVPFI_linear_model_part4_495_1...  /lustre/tpa/slurm/run   \n3   /tpa/slurm/0031_EVPFI_linear_model_part4_470_1...  /lustre/tpa/slurm/run   \n4   /tpa/slurm/0031_EVPFI_linear_model_part4_511_1...  /lustre/tpa/slurm/run   \n5   /tpa/slurm/0031_EVPFI_linear_model_part4_468_1...  /lustre/tpa/slurm/run   \n6   /tpa/slurm/0031_EVPFI_linear_model_part4_478_1...  /lustre/tpa/slurm/run   \n7   /tpa/slurm/0031_EVPFI_linear_model_part4_475_1...  /lustre/tpa/slurm/run   \n8   /tpa/slurm/0031_EVPFI_linear_model_part4_480_1...  /lustre/tpa/slurm/run   \n9   /tpa/slurm/0031_EVPFI_linear_model_part4_474_1...  /lustre/tpa/slurm/run   \n10  /tpa/slurm/0031_EVPFI_linear_model_part4_477_1...  /lustre/tpa/slurm/run   \n11  /tpa/slurm/0031_EVPFI_linear_model_part4_465_1...  /lustre/tpa/slurm/run   \n12  /tpa/slurm/0031_EVPFI_linear_model_part4_476_1...  /lustre/tpa/slurm/run   \n13  /tpa/slurm/0031_EVPFI_linear_model_part4_463_1...  /lustre/tpa/slurm/run   \n14  /tpa/slurm/0031_EVPFI_linear_model_part4_479_1...  /lustre/tpa/slurm/run   \n15  /tpa/slurm/0031_EVPFI_linear_model_part4_483_1...  /lustre/tpa/slurm/run   \n16  /tpa/slurm/0031_EVPFI_linear_model_part4_461_1...  /lustre/tpa/slurm/run   \n17  /tpa/slurm/0031_EVPFI_linear_model_part4_466_1...  /lustre/tpa/slurm/run   \n18  /tpa/slurm/0031_EVPFI_linear_model_part4_501_1...  /lustre/tpa/slurm/run   \n19  /tpa/slurm/0031_EVPFI_linear_model_part4_497_1...  /lustre/tpa/slurm/run   \n20  /tpa/slurm/0031_EVPFI_linear_model_part4_472_1...  /lustre/tpa/slurm/run   \n\n      WorkDir                                  Comment     StdErr  \\\n0   titan3d22  /lustre/tpa/slurm/run/slurm-2021931.out  /dev/null   \n1   titan3d22  /lustre/tpa/slurm/run/slurm-2021973.out  /dev/null   \n2   titan3d22  /lustre/tpa/slurm/run/slurm-2021960.out  /dev/null   \n3   titan3d22  /lustre/tpa/slurm/run/slurm-2021934.out  /dev/null   \n4   titan3d22  /lustre/tpa/slurm/run/slurm-2021976.out  /dev/null   \n5   titan3d22  /lustre/tpa/slurm/run/slurm-2021932.out  /dev/null   \n6   titan3d22  /lustre/tpa/slurm/run/slurm-2021942.out  /dev/null   \n7   titan3d22  /lustre/tpa/slurm/run/slurm-2021939.out  /dev/null   \n8   titan3d22  /lustre/tpa/slurm/run/slurm-2021945.out  /dev/null   \n9   titan3d22  /lustre/tpa/slurm/run/slurm-2021938.out  /dev/null   \n10  titan3d22  /lustre/tpa/slurm/run/slurm-2021941.out  /dev/null   \n11  titan3d22  /lustre/tpa/slurm/run/slurm-2021929.out  /dev/null   \n12  titan3d22  /lustre/tpa/slurm/run/slurm-2021940.out  /dev/null   \n13  titan3d22  /lustre/tpa/slurm/run/slurm-2021927.out  /dev/null   \n14  titan3d22  /lustre/tpa/slurm/run/slurm-2021943.out  /dev/null   \n15  titan3d22  /lustre/tpa/slurm/run/slurm-2021948.out  /dev/null   \n16  titan3d22  /lustre/tpa/slurm/run/slurm-2021925.out  /dev/null   \n17  titan3d22  /lustre/tpa/slurm/run/slurm-2021930.out  /dev/null   \n18  titan3d22  /lustre/tpa/slurm/run/slurm-2021966.out  /dev/null   \n19  titan3d22  /lustre/tpa/slurm/run/slurm-2021962.out  /dev/null   \n20  titan3d22  /lustre/tpa/slurm/run/slurm-2021936.out  /dev/null   \n\n                                      StdIn StdOut Power  \n0   /lustre/tpa/slurm/run/slurm-2021931.out    NaN   NaN  \n1   /lustre/tpa/slurm/run/slurm-2021973.out    NaN   NaN  \n2   /lustre/tpa/slurm/run/slurm-2021960.out    NaN   NaN  \n3   /lustre/tpa/slurm/run/slurm-2021934.out    NaN   NaN  \n4   /lustre/tpa/slurm/run/slurm-2021976.out    NaN   NaN  \n5   /lustre/tpa/slurm/run/slurm-2021932.out    NaN   NaN  \n6   /lustre/tpa/slurm/run/slurm-2021942.out    NaN   NaN  \n7   /lustre/tpa/slurm/run/slurm-2021939.out    NaN   NaN  \n8   /lustre/tpa/slurm/run/slurm-2021945.out    NaN   NaN  \n9   /lustre/tpa/slurm/run/slurm-2021938.out    NaN   NaN  \n10  /lustre/tpa/slurm/run/slurm-2021941.out    NaN   NaN  \n11  /lustre/tpa/slurm/run/slurm-2021929.out    NaN   NaN  \n12  /lustre/tpa/slurm/run/slurm-2021940.out    NaN   NaN  \n13  /lustre/tpa/slurm/run/slurm-2021927.out    NaN   NaN  \n14  /lustre/tpa/slurm/run/slurm-2021943.out    NaN   NaN  \n15  /lustre/tpa/slurm/run/slurm-2021948.out    NaN   NaN  \n16  /lustre/tpa/slurm/run/slurm-2021925.out    NaN   NaN  \n17  /lustre/tpa/slurm/run/slurm-2021930.out    NaN   NaN  \n18  /lustre/tpa/slurm/run/slurm-2021966.out    NaN   NaN  \n19  /lustre/tpa/slurm/run/slurm-2021962.out    NaN   NaN  \n20  /lustre/tpa/slurm/run/slurm-2021936.out    NaN   NaN  \n\n[21 rows x 63 columns]",
      "text/html": "<div>\n<style scoped>\n    .dataframe tbody tr th:only-of-type {\n        vertical-align: middle;\n    }\n\n    .dataframe tbody tr th {\n        vertical-align: top;\n    }\n\n    .dataframe thead th {\n        text-align: right;\n    }\n</style>\n<table border=\"1\" class=\"dataframe\">\n  <thead>\n    <tr style=\"text-align: right;\">\n      <th></th>\n      <th>Unnamed: 0</th>\n      <th>JobID</th>\n      <th>JobName</th>\n      <th>UserID</th>\n      <th>GroupID</th>\n      <th>MCS_label</th>\n      <th>Priority</th>\n      <th>Nice</th>\n      <th>Account</th>\n      <th>QOS</th>\n      <th>...</th>\n      <th>Contiguous</th>\n      <th>Licenses</th>\n      <th>Network</th>\n      <th>Command</th>\n      <th>WorkDir</th>\n      <th>Comment</th>\n      <th>StdErr</th>\n      <th>StdIn</th>\n      <th>StdOut</th>\n      <th>Power</th>\n    </tr>\n  </thead>\n  <tbody>\n    <tr>\n      <th>0</th>\n      <td>0</td>\n      <td>2021931</td>\n      <td>0031_EVPFI_linear_model_part4_467_1.js</td>\n      <td>gramsn(50619)</td>\n      <td>geovation(50218)</td>\n      <td>NaN</td>\n      <td>3470</td>\n      <td>0.0</td>\n      <td>g2admin</td>\n      <td>contract</td>\n      <td>...</td>\n      <td>agc_g22020@nms:4,attrmath_g22020@nms:2,brden_g...</td>\n      <td>(null)</td>\n      <td>/tpa/slurm/0031_EVPFI_linear_model_part4_467_1...</td>\n      <td>/lustre/tpa/slurm/run</td>\n      <td>titan3d22</td>\n      <td>/lustre/tpa/slurm/run/slurm-2021931.out</td>\n      <td>/dev/null</td>\n      <td>/lustre/tpa/slurm/run/slurm-2021931.out</td>\n      <td>NaN</td>\n      <td>NaN</td>\n    </tr>\n    <tr>\n      <th>1</th>\n      <td>1</td>\n      <td>2021973</td>\n      <td>0031_EVPFI_linear_model_part4_508_1.js</td>\n      <td>gramsn(50619)</td>\n      <td>geovation(50218)</td>\n      <td>NaN</td>\n      <td>3470</td>\n      <td>0.0</td>\n      <td>g2admin</td>\n      <td>contract</td>\n      <td>...</td>\n      <td>agc_g22020@nms:4,attrmath_g22020@nms:2,brden_g...</td>\n      <td>(null)</td>\n      <td>/tpa/slurm/0031_EVPFI_linear_model_part4_508_1...</td>\n      <td>/lustre/tpa/slurm/run</td>\n      <td>titan3d22</td>\n      <td>/lustre/tpa/slurm/run/slurm-2021973.out</td>\n      <td>/dev/null</td>\n      <td>/lustre/tpa/slurm/run/slurm-2021973.out</td>\n      <td>NaN</td>\n      <td>NaN</td>\n    </tr>\n    <tr>\n      <th>2</th>\n      <td>2</td>\n      <td>2021960</td>\n      <td>0031_EVPFI_linear_model_part4_495_1.js</td>\n      <td>gramsn(50619)</td>\n      <td>geovation(50218)</td>\n      <td>NaN</td>\n      <td>3470</td>\n      <td>0.0</td>\n      <td>g2admin</td>\n      <td>contract</td>\n      <td>...</td>\n      <td>agc_g22020@nms:4,attrmath_g22020@nms:2,brden_g...</td>\n      <td>(null)</td>\n      <td>/tpa/slurm/0031_EVPFI_linear_model_part4_495_1...</td>\n      <td>/lustre/tpa/slurm/run</td>\n      <td>titan3d22</td>\n      <td>/lustre/tpa/slurm/run/slurm-2021960.out</td>\n      <td>/dev/null</td>\n      <td>/lustre/tpa/slurm/run/slurm-2021960.out</td>\n      <td>NaN</td>\n      <td>NaN</td>\n    </tr>\n    <tr>\n      <th>3</th>\n      <td>3</td>\n      <td>2021934</td>\n      <td>0031_EVPFI_linear_model_part4_470_1.js</td>\n      <td>gramsn(50619)</td>\n      <td>geovation(50218)</td>\n      <td>NaN</td>\n      <td>3470</td>\n      <td>0.0</td>\n      <td>g2admin</td>\n      <td>contract</td>\n      <td>...</td>\n      <td>agc_g22020@nms:4,attrmath_g22020@nms:2,brden_g...</td>\n      <td>(null)</td>\n      <td>/tpa/slurm/0031_EVPFI_linear_model_part4_470_1...</td>\n      <td>/lustre/tpa/slurm/run</td>\n      <td>titan3d22</td>\n      <td>/lustre/tpa/slurm/run/slurm-2021934.out</td>\n      <td>/dev/null</td>\n      <td>/lustre/tpa/slurm/run/slurm-2021934.out</td>\n      <td>NaN</td>\n      <td>NaN</td>\n    </tr>\n    <tr>\n      <th>4</th>\n      <td>4</td>\n      <td>2021976</td>\n      <td>0031_EVPFI_linear_model_part4_511_1.js</td>\n      <td>gramsn(50619)</td>\n      <td>geovation(50218)</td>\n      <td>NaN</td>\n      <td>3470</td>\n      <td>0.0</td>\n      <td>g2admin</td>\n      <td>contract</td>\n      <td>...</td>\n      <td>agc_g22020@nms:4,attrmath_g22020@nms:2,brden_g...</td>\n      <td>(null)</td>\n      <td>/tpa/slurm/0031_EVPFI_linear_model_part4_511_1...</td>\n      <td>/lustre/tpa/slurm/run</td>\n      <td>titan3d22</td>\n      <td>/lustre/tpa/slurm/run/slurm-2021976.out</td>\n      <td>/dev/null</td>\n      <td>/lustre/tpa/slurm/run/slurm-2021976.out</td>\n      <td>NaN</td>\n      <td>NaN</td>\n    </tr>\n    <tr>\n      <th>5</th>\n      <td>5</td>\n      <td>2021932</td>\n      <td>0031_EVPFI_linear_model_part4_468_1.js</td>\n      <td>gramsn(50619)</td>\n      <td>geovation(50218)</td>\n      <td>NaN</td>\n      <td>3470</td>\n      <td>0.0</td>\n      <td>g2admin</td>\n      <td>contract</td>\n      <td>...</td>\n      <td>agc_g22020@nms:4,attrmath_g22020@nms:2,brden_g...</td>\n      <td>(null)</td>\n      <td>/tpa/slurm/0031_EVPFI_linear_model_part4_468_1...</td>\n      <td>/lustre/tpa/slurm/run</td>\n      <td>titan3d22</td>\n      <td>/lustre/tpa/slurm/run/slurm-2021932.out</td>\n      <td>/dev/null</td>\n      <td>/lustre/tpa/slurm/run/slurm-2021932.out</td>\n      <td>NaN</td>\n      <td>NaN</td>\n    </tr>\n    <tr>\n      <th>6</th>\n      <td>6</td>\n      <td>2021942</td>\n      <td>0031_EVPFI_linear_model_part4_478_1.js</td>\n      <td>gramsn(50619)</td>\n      <td>geovation(50218)</td>\n      <td>NaN</td>\n      <td>3470</td>\n      <td>0.0</td>\n      <td>g2admin</td>\n      <td>contract</td>\n      <td>...</td>\n      <td>agc_g22020@nms:4,attrmath_g22020@nms:2,brden_g...</td>\n      <td>(null)</td>\n      <td>/tpa/slurm/0031_EVPFI_linear_model_part4_478_1...</td>\n      <td>/lustre/tpa/slurm/run</td>\n      <td>titan3d22</td>\n      <td>/lustre/tpa/slurm/run/slurm-2021942.out</td>\n      <td>/dev/null</td>\n      <td>/lustre/tpa/slurm/run/slurm-2021942.out</td>\n      <td>NaN</td>\n      <td>NaN</td>\n    </tr>\n    <tr>\n      <th>7</th>\n      <td>7</td>\n      <td>2021939</td>\n      <td>0031_EVPFI_linear_model_part4_475_1.js</td>\n      <td>gramsn(50619)</td>\n      <td>geovation(50218)</td>\n      <td>NaN</td>\n      <td>3470</td>\n      <td>0.0</td>\n      <td>g2admin</td>\n      <td>contract</td>\n      <td>...</td>\n      <td>agc_g22020@nms:4,attrmath_g22020@nms:2,brden_g...</td>\n      <td>(null)</td>\n      <td>/tpa/slurm/0031_EVPFI_linear_model_part4_475_1...</td>\n      <td>/lustre/tpa/slurm/run</td>\n      <td>titan3d22</td>\n      <td>/lustre/tpa/slurm/run/slurm-2021939.out</td>\n      <td>/dev/null</td>\n      <td>/lustre/tpa/slurm/run/slurm-2021939.out</td>\n      <td>NaN</td>\n      <td>NaN</td>\n    </tr>\n    <tr>\n      <th>8</th>\n      <td>8</td>\n      <td>2021945</td>\n      <td>0031_EVPFI_linear_model_part4_480_1.js</td>\n      <td>gramsn(50619)</td>\n      <td>geovation(50218)</td>\n      <td>NaN</td>\n      <td>3470</td>\n      <td>0.0</td>\n      <td>g2admin</td>\n      <td>contract</td>\n      <td>...</td>\n      <td>agc_g22020@nms:4,attrmath_g22020@nms:2,brden_g...</td>\n      <td>(null)</td>\n      <td>/tpa/slurm/0031_EVPFI_linear_model_part4_480_1...</td>\n      <td>/lustre/tpa/slurm/run</td>\n      <td>titan3d22</td>\n      <td>/lustre/tpa/slurm/run/slurm-2021945.out</td>\n      <td>/dev/null</td>\n      <td>/lustre/tpa/slurm/run/slurm-2021945.out</td>\n      <td>NaN</td>\n      <td>NaN</td>\n    </tr>\n    <tr>\n      <th>9</th>\n      <td>9</td>\n      <td>2021938</td>\n      <td>0031_EVPFI_linear_model_part4_474_1.js</td>\n      <td>gramsn(50619)</td>\n      <td>geovation(50218)</td>\n      <td>NaN</td>\n      <td>3470</td>\n      <td>0.0</td>\n      <td>g2admin</td>\n      <td>contract</td>\n      <td>...</td>\n      <td>agc_g22020@nms:4,attrmath_g22020@nms:2,brden_g...</td>\n      <td>(null)</td>\n      <td>/tpa/slurm/0031_EVPFI_linear_model_part4_474_1...</td>\n      <td>/lustre/tpa/slurm/run</td>\n      <td>titan3d22</td>\n      <td>/lustre/tpa/slurm/run/slurm-2021938.out</td>\n      <td>/dev/null</td>\n      <td>/lustre/tpa/slurm/run/slurm-2021938.out</td>\n      <td>NaN</td>\n      <td>NaN</td>\n    </tr>\n    <tr>\n      <th>10</th>\n      <td>10</td>\n      <td>2021941</td>\n      <td>0031_EVPFI_linear_model_part4_477_1.js</td>\n      <td>gramsn(50619)</td>\n      <td>geovation(50218)</td>\n      <td>NaN</td>\n      <td>3470</td>\n      <td>0.0</td>\n      <td>g2admin</td>\n      <td>contract</td>\n      <td>...</td>\n      <td>agc_g22020@nms:4,attrmath_g22020@nms:2,brden_g...</td>\n      <td>(null)</td>\n      <td>/tpa/slurm/0031_EVPFI_linear_model_part4_477_1...</td>\n      <td>/lustre/tpa/slurm/run</td>\n      <td>titan3d22</td>\n      <td>/lustre/tpa/slurm/run/slurm-2021941.out</td>\n      <td>/dev/null</td>\n      <td>/lustre/tpa/slurm/run/slurm-2021941.out</td>\n      <td>NaN</td>\n      <td>NaN</td>\n    </tr>\n    <tr>\n      <th>11</th>\n      <td>11</td>\n      <td>2021929</td>\n      <td>0031_EVPFI_linear_model_part4_465_1.js</td>\n      <td>gramsn(50619)</td>\n      <td>geovation(50218)</td>\n      <td>NaN</td>\n      <td>3470</td>\n      <td>0.0</td>\n      <td>g2admin</td>\n      <td>contract</td>\n      <td>...</td>\n      <td>agc_g22020@nms:4,attrmath_g22020@nms:2,brden_g...</td>\n      <td>(null)</td>\n      <td>/tpa/slurm/0031_EVPFI_linear_model_part4_465_1...</td>\n      <td>/lustre/tpa/slurm/run</td>\n      <td>titan3d22</td>\n      <td>/lustre/tpa/slurm/run/slurm-2021929.out</td>\n      <td>/dev/null</td>\n      <td>/lustre/tpa/slurm/run/slurm-2021929.out</td>\n      <td>NaN</td>\n      <td>NaN</td>\n    </tr>\n    <tr>\n      <th>12</th>\n      <td>12</td>\n      <td>2021940</td>\n      <td>0031_EVPFI_linear_model_part4_476_1.js</td>\n      <td>gramsn(50619)</td>\n      <td>geovation(50218)</td>\n      <td>NaN</td>\n      <td>3470</td>\n      <td>0.0</td>\n      <td>g2admin</td>\n      <td>contract</td>\n      <td>...</td>\n      <td>agc_g22020@nms:4,attrmath_g22020@nms:2,brden_g...</td>\n      <td>(null)</td>\n      <td>/tpa/slurm/0031_EVPFI_linear_model_part4_476_1...</td>\n      <td>/lustre/tpa/slurm/run</td>\n      <td>titan3d22</td>\n      <td>/lustre/tpa/slurm/run/slurm-2021940.out</td>\n      <td>/dev/null</td>\n      <td>/lustre/tpa/slurm/run/slurm-2021940.out</td>\n      <td>NaN</td>\n      <td>NaN</td>\n    </tr>\n    <tr>\n      <th>13</th>\n      <td>13</td>\n      <td>2021927</td>\n      <td>0031_EVPFI_linear_model_part4_463_1.js</td>\n      <td>gramsn(50619)</td>\n      <td>geovation(50218)</td>\n      <td>NaN</td>\n      <td>3470</td>\n      <td>0.0</td>\n      <td>g2admin</td>\n      <td>contract</td>\n      <td>...</td>\n      <td>agc_g22020@nms:4,attrmath_g22020@nms:2,brden_g...</td>\n      <td>(null)</td>\n      <td>/tpa/slurm/0031_EVPFI_linear_model_part4_463_1...</td>\n      <td>/lustre/tpa/slurm/run</td>\n      <td>titan3d22</td>\n      <td>/lustre/tpa/slurm/run/slurm-2021927.out</td>\n      <td>/dev/null</td>\n      <td>/lustre/tpa/slurm/run/slurm-2021927.out</td>\n      <td>NaN</td>\n      <td>NaN</td>\n    </tr>\n    <tr>\n      <th>14</th>\n      <td>14</td>\n      <td>2021943</td>\n      <td>0031_EVPFI_linear_model_part4_479_1.js</td>\n      <td>gramsn(50619)</td>\n      <td>geovation(50218)</td>\n      <td>NaN</td>\n      <td>3470</td>\n      <td>0.0</td>\n      <td>g2admin</td>\n      <td>contract</td>\n      <td>...</td>\n      <td>agc_g22020@nms:4,attrmath_g22020@nms:2,brden_g...</td>\n      <td>(null)</td>\n      <td>/tpa/slurm/0031_EVPFI_linear_model_part4_479_1...</td>\n      <td>/lustre/tpa/slurm/run</td>\n      <td>titan3d22</td>\n      <td>/lustre/tpa/slurm/run/slurm-2021943.out</td>\n      <td>/dev/null</td>\n      <td>/lustre/tpa/slurm/run/slurm-2021943.out</td>\n      <td>NaN</td>\n      <td>NaN</td>\n    </tr>\n    <tr>\n      <th>15</th>\n      <td>15</td>\n      <td>2021948</td>\n      <td>0031_EVPFI_linear_model_part4_483_1.js</td>\n      <td>gramsn(50619)</td>\n      <td>geovation(50218)</td>\n      <td>NaN</td>\n      <td>3470</td>\n      <td>0.0</td>\n      <td>g2admin</td>\n      <td>contract</td>\n      <td>...</td>\n      <td>agc_g22020@nms:4,attrmath_g22020@nms:2,brden_g...</td>\n      <td>(null)</td>\n      <td>/tpa/slurm/0031_EVPFI_linear_model_part4_483_1...</td>\n      <td>/lustre/tpa/slurm/run</td>\n      <td>titan3d22</td>\n      <td>/lustre/tpa/slurm/run/slurm-2021948.out</td>\n      <td>/dev/null</td>\n      <td>/lustre/tpa/slurm/run/slurm-2021948.out</td>\n      <td>NaN</td>\n      <td>NaN</td>\n    </tr>\n    <tr>\n      <th>16</th>\n      <td>16</td>\n      <td>2021925</td>\n      <td>0031_EVPFI_linear_model_part4_461_1.js</td>\n      <td>gramsn(50619)</td>\n      <td>geovation(50218)</td>\n      <td>NaN</td>\n      <td>3470</td>\n      <td>0.0</td>\n      <td>g2admin</td>\n      <td>contract</td>\n      <td>...</td>\n      <td>agc_g22020@nms:4,attrmath_g22020@nms:2,brden_g...</td>\n      <td>(null)</td>\n      <td>/tpa/slurm/0031_EVPFI_linear_model_part4_461_1...</td>\n      <td>/lustre/tpa/slurm/run</td>\n      <td>titan3d22</td>\n      <td>/lustre/tpa/slurm/run/slurm-2021925.out</td>\n      <td>/dev/null</td>\n      <td>/lustre/tpa/slurm/run/slurm-2021925.out</td>\n      <td>NaN</td>\n      <td>NaN</td>\n    </tr>\n    <tr>\n      <th>17</th>\n      <td>17</td>\n      <td>2021930</td>\n      <td>0031_EVPFI_linear_model_part4_466_1.js</td>\n      <td>gramsn(50619)</td>\n      <td>geovation(50218)</td>\n      <td>NaN</td>\n      <td>3470</td>\n      <td>0.0</td>\n      <td>g2admin</td>\n      <td>contract</td>\n      <td>...</td>\n      <td>agc_g22020@nms:4,attrmath_g22020@nms:2,brden_g...</td>\n      <td>(null)</td>\n      <td>/tpa/slurm/0031_EVPFI_linear_model_part4_466_1...</td>\n      <td>/lustre/tpa/slurm/run</td>\n      <td>titan3d22</td>\n      <td>/lustre/tpa/slurm/run/slurm-2021930.out</td>\n      <td>/dev/null</td>\n      <td>/lustre/tpa/slurm/run/slurm-2021930.out</td>\n      <td>NaN</td>\n      <td>NaN</td>\n    </tr>\n    <tr>\n      <th>18</th>\n      <td>18</td>\n      <td>2021966</td>\n      <td>0031_EVPFI_linear_model_part4_501_1.js</td>\n      <td>gramsn(50619)</td>\n      <td>geovation(50218)</td>\n      <td>NaN</td>\n      <td>3470</td>\n      <td>0.0</td>\n      <td>g2admin</td>\n      <td>contract</td>\n      <td>...</td>\n      <td>agc_g22020@nms:4,attrmath_g22020@nms:2,brden_g...</td>\n      <td>(null)</td>\n      <td>/tpa/slurm/0031_EVPFI_linear_model_part4_501_1...</td>\n      <td>/lustre/tpa/slurm/run</td>\n      <td>titan3d22</td>\n      <td>/lustre/tpa/slurm/run/slurm-2021966.out</td>\n      <td>/dev/null</td>\n      <td>/lustre/tpa/slurm/run/slurm-2021966.out</td>\n      <td>NaN</td>\n      <td>NaN</td>\n    </tr>\n    <tr>\n      <th>19</th>\n      <td>19</td>\n      <td>2021962</td>\n      <td>0031_EVPFI_linear_model_part4_497_1.js</td>\n      <td>gramsn(50619)</td>\n      <td>geovation(50218)</td>\n      <td>NaN</td>\n      <td>3470</td>\n      <td>0.0</td>\n      <td>g2admin</td>\n      <td>contract</td>\n      <td>...</td>\n      <td>agc_g22020@nms:4,attrmath_g22020@nms:2,brden_g...</td>\n      <td>(null)</td>\n      <td>/tpa/slurm/0031_EVPFI_linear_model_part4_497_1...</td>\n      <td>/lustre/tpa/slurm/run</td>\n      <td>titan3d22</td>\n      <td>/lustre/tpa/slurm/run/slurm-2021962.out</td>\n      <td>/dev/null</td>\n      <td>/lustre/tpa/slurm/run/slurm-2021962.out</td>\n      <td>NaN</td>\n      <td>NaN</td>\n    </tr>\n    <tr>\n      <th>20</th>\n      <td>20</td>\n      <td>2021936</td>\n      <td>0031_EVPFI_linear_model_part4_472_1.js</td>\n      <td>gramsn(50619)</td>\n      <td>geovation(50218)</td>\n      <td>NaN</td>\n      <td>3470</td>\n      <td>0.0</td>\n      <td>g2admin</td>\n      <td>contract</td>\n      <td>...</td>\n      <td>agc_g22020@nms:4,attrmath_g22020@nms:2,brden_g...</td>\n      <td>(null)</td>\n      <td>/tpa/slurm/0031_EVPFI_linear_model_part4_472_1...</td>\n      <td>/lustre/tpa/slurm/run</td>\n      <td>titan3d22</td>\n      <td>/lustre/tpa/slurm/run/slurm-2021936.out</td>\n      <td>/dev/null</td>\n      <td>/lustre/tpa/slurm/run/slurm-2021936.out</td>\n      <td>NaN</td>\n      <td>NaN</td>\n    </tr>\n  </tbody>\n</table>\n<p>21 rows × 63 columns</p>\n</div>"
     },
     "execution_count": 21,
     "metadata": {},
     "output_type": "execute_result"
    }
   ],
   "source": [
    "df_job_info.loc[0:20]"
   ],
   "metadata": {
    "collapsed": false
   }
  },
  {
   "cell_type": "code",
   "execution_count": 25,
   "outputs": [
    {
     "name": "stdout",
     "output_type": "stream",
     "text": [
      "<class 'pandas.core.frame.DataFrame'>\n",
      "RangeIndex: 448425 entries, 0 to 448424\n",
      "Data columns (total 63 columns):\n",
      " #   Column            Non-Null Count   Dtype  \n",
      "---  ------            --------------   -----  \n",
      " 0   Unnamed: 0        448425 non-null  int64  \n",
      " 1   JobID             448425 non-null  object \n",
      " 2   JobName           448419 non-null  object \n",
      " 3   UserID            448419 non-null  object \n",
      " 4   GroupID           448419 non-null  object \n",
      " 5   MCS_label         2273 non-null    object \n",
      " 6   Priority          448419 non-null  object \n",
      " 7   Nice              446146 non-null  float64\n",
      " 8   Account           448419 non-null  object \n",
      " 9   QOS               448419 non-null  object \n",
      " 10  WCKey             448419 non-null  object \n",
      " 11  JobState          448419 non-null  object \n",
      " 12  Reason            448419 non-null  object \n",
      " 13  Dependency        448419 non-null  object \n",
      " 14  Requeue           448419 non-null  object \n",
      " 15  Restarts          448419 non-null  object \n",
      " 16  BatchFlag         448419 non-null  float64\n",
      " 17  Reboot            448419 non-null  float64\n",
      " 18  ExitCode          448419 non-null  object \n",
      " 19  RunTime           448419 non-null  object \n",
      " 20  TimeLimit         448419 non-null  object \n",
      " 21  TimeMin           2273 non-null    object \n",
      " 22  SubmitTime        448419 non-null  object \n",
      " 23  EligibleTime      446146 non-null  object \n",
      " 24  AccrueTime        448419 non-null  object \n",
      " 25  StartTime         448419 non-null  object \n",
      " 26  EndTime           448419 non-null  object \n",
      " 27  Deadline          2273 non-null    object \n",
      " 28  SuspendTime       448419 non-null  object \n",
      " 29  SecsPreSuspend    446146 non-null  float64\n",
      " 30  LastSchedEval     448419 non-null  object \n",
      " 31  Partition         448419 non-null  object \n",
      " 32  AllocNode:Sid     448419 non-null  object \n",
      " 33  ReqNodeList       448419 non-null  object \n",
      " 34  ExcNodeList       448419 non-null  object \n",
      " 35  NodeList          448419 non-null  object \n",
      " 36  BatchHost         448419 non-null  object \n",
      " 37  NumNodes          448419 non-null  object \n",
      " 38  NCPUs             448419 non-null  object \n",
      " 39  NumTasks          448419 non-null  float64\n",
      " 40  CPUs/Task         448419 non-null  float64\n",
      " 41  ReqB:S:C:T        448419 non-null  object \n",
      " 42  TRES              448419 non-null  object \n",
      " 43  Socks/Node        448419 non-null  object \n",
      " 44  NtasksPerN:B:S:C  448419 non-null  object \n",
      " 45  CoreSpec          448419 non-null  object \n",
      " 46  MinCPUsNode       448419 non-null  object \n",
      " 47  MinMemoryNode     448419 non-null  object \n",
      " 48  MinTmpDiskNode    448419 non-null  float64\n",
      " 49  Features          448419 non-null  object \n",
      " 50  DelayBoot         448419 non-null  object \n",
      " 51  Reservation       448419 non-null  object \n",
      " 52  OverSubscribe     448419 non-null  object \n",
      " 53  Contiguous        448419 non-null  object \n",
      " 54  Licenses          448419 non-null  object \n",
      " 55  Network           448419 non-null  object \n",
      " 56  Command           448419 non-null  object \n",
      " 57  WorkDir           443756 non-null  object \n",
      " 58  Comment           443576 non-null  object \n",
      " 59  StdErr            443486 non-null  object \n",
      " 60  StdIn             413631 non-null  object \n",
      " 61  StdOut            124607 non-null  object \n",
      " 62  Power             2116 non-null    object \n",
      "dtypes: float64(7), int64(1), object(55)\n",
      "memory usage: 215.5+ MB\n"
     ]
    }
   ],
   "source": [
    "df_job_info.info()"
   ],
   "metadata": {
    "collapsed": false
   }
  },
  {
   "cell_type": "code",
   "execution_count": 24,
   "outputs": [
    {
     "data": {
      "text/plain": "['Unnamed: 0',\n 'JobID',\n 'JobName',\n 'UserID',\n 'GroupID',\n 'MCS_label',\n 'Priority',\n 'Nice',\n 'Account',\n 'QOS',\n 'WCKey',\n 'JobState',\n 'Reason',\n 'Dependency',\n 'Requeue',\n 'Restarts',\n 'BatchFlag',\n 'Reboot',\n 'ExitCode',\n 'RunTime',\n 'TimeLimit',\n 'TimeMin',\n 'SubmitTime',\n 'EligibleTime',\n 'AccrueTime',\n 'StartTime',\n 'EndTime',\n 'Deadline',\n 'SuspendTime',\n 'SecsPreSuspend',\n 'LastSchedEval',\n 'Partition',\n 'AllocNode:Sid',\n 'ReqNodeList',\n 'ExcNodeList',\n 'NodeList',\n 'BatchHost',\n 'NumNodes',\n 'NCPUs',\n 'NumTasks',\n 'CPUs/Task',\n 'ReqB:S:C:T',\n 'TRES',\n 'Socks/Node',\n 'NtasksPerN:B:S:C',\n 'CoreSpec',\n 'MinCPUsNode',\n 'MinMemoryNode',\n 'MinTmpDiskNode',\n 'Features',\n 'DelayBoot',\n 'Reservation',\n 'OverSubscribe',\n 'Contiguous',\n 'Licenses',\n 'Network',\n 'Command',\n 'WorkDir',\n 'Comment',\n 'StdErr',\n 'StdIn',\n 'StdOut',\n 'Power']"
     },
     "execution_count": 24,
     "metadata": {},
     "output_type": "execute_result"
    }
   ],
   "source": [
    "list(df_job_info.columns)"
   ],
   "metadata": {
    "collapsed": false
   }
  },
  {
   "cell_type": "code",
   "execution_count": 56,
   "outputs": [
    {
     "data": {
      "text/plain": "array(['gramsn(50619)', 'eapra(50701)', 'strashkov_d(50638)',\n       'pervms(50456)', 'tinakin(50674)', 'korzueva(50481)',\n       'asnegirev(50119)', 'veselova(50104)', 'useribv(50195)',\n       'shtyrkhunov(50482)', 'molchanov(50164)', 'agarbaruk(50109)',\n       'nikolaev_d(50636)', 'pm_combuster(50667)', 'linnik_s(50635)',\n       'amatyushenko(50190)', 'poletaeva(50661)', 'senichenkov(50102)',\n       'anton.panteleev(50703)', 'dkolmogorov(50555)', 'max_exa(50577)',\n       'tarabaschuk(50625)', 'adanilishin(50121)', 'ntibench(50532)',\n       'nandreeva(50666)', 'dgorbatov(50369)', 'koshkaroveg(50264)',\n       'tm3u2(50287)', 'dnolde(50123)', 'greshnkonst(50696)',\n       'golubkovvd(50687)', 'nbykov(50272)', 'gretsova_mv(50544)',\n       'akanapin(50430)', 'knikiforova(50688)', 'romansky(50260)',\n       'svolvenko(50418)', 'eusemakina(50539)', 'fyodorova(50665)',\n       'galaev(50501)', 'gataulin(50600)', 'smirnovsi(50341)',\n       'iaroslavchern(50664)', 'pavlov(50390)', 'nikitaobraztsov(50354)',\n       'podmarkova(50608)', 'tm3u9(50294)', 'protasovmi(50632)',\n       'ryazantsev_m(50637)', 'popovivan(50550)', 'gultyaeva(50498)',\n       'travin(50111)', 'sokolovim(50233)', 'zasimovama(50342)',\n       'kolesnikev(50339)', 'amelnikova(50631)', 'verna(50344)',\n       'ekuznetsov(50147)', 'd_belinskaya(50654)', 'starnovskaya(50649)',\n       'sergeymagazinov(50313)', 'ibanez(50308)', 'bronskiy(50549)',\n       'ubatov(50613)', 'bezdvornykh(50672)', '6', '7', '2', '3', '4',\n       '5', '9', '8', '1', 'root(0)', 'cifra(50594)', 'omranmm(50633)',\n       'kotov(50235)', 'stepasheva(50693)', 'asifyoucared(50671)',\n       'shch(50606)', 'alexxy(50100)', 'n_shestakova(50655)',\n       'kibalch(50676)', 'user50(50050)', 'kkozlov(50220)',\n       'yerokhin(50699)', 'sergey.golubev(50709)', 'semindg(50420)',\n       'user12(50012)', 'pavaz(50653)', 'vpavlov(50383)', nan,\n       'gnz11(50174)', 'averkiev(50656)', 'ckorikov(50700)',\n       'tm3u1(50286)', 'dprokhorov(50628)', 'olga.tushkanova(50719)',\n       'kir_vol(50706)', 'dpuzko(50614)', 'akorolev(50523)',\n       'litvda(50442)', 'degtyarnikovam(50262)', 'kbelyaev(50101)',\n       'pavelpetrov(50657)', 'dyubodb(50502)', 'degtam(50262)',\n       'tm3u5(50290)', '10', '11', '12', '13', '17', '16', '18', '14',\n       '19', '20', '15', '21', '22', '23', '24', '25', '26', '27', '28',\n       '29', '30', '31', '32', '33', '34', '35', '36', '37', '38', '39',\n       '40', '41', '42', '43', '44', '45', '46', '47', '48', '49', '50',\n       '51', '52', '53', '54', '55', '56', '57', '58', '59', '60', '61',\n       '62', '63', '64', '65', '66', '67', '68', '69', '70', '71', '72',\n       '73', '74', '75', '76', '77', '78', '79', '80', '81', '82', '83',\n       '84', '85', '88', '86', '87', '89', '90', '91', '92', '93', '94',\n       '95', '96', '98', '97', '99', '100', '101', '102', '103', '104',\n       '105', '106', '107', '108', '109', '110', '111', '112', '113',\n       '114', '115', '116', '117', '118', '119', '120', '121', '122',\n       '124', '123', '125', '126', '127', '128', '129', '130', '131',\n       '133', '132', '134', '135', '136', '137', '138', '139', '140',\n       '141', '142', '143', '148', '144', '146', '145', '147', '149',\n       '151', '152', '150', '153', '154', '155', '156', '157', '158',\n       '159', '160', '162', '161', '163', '164', '165', '166', '167',\n       '168', '169', '170', '171', '172', '173', '174', '175', '177',\n       '176', '178', '179', '180', '181', '182', '188', '183', '186',\n       '187', '184', '185', '189', '190', '191', '192', '196', '193',\n       '197', '194', '195', '198', '199', '200', '201', '202', '208',\n       '207', '206', '205', '209', '203', '210', '211', '204', '212',\n       '213', '214', '215', '216', '217', '218', '219', '220', '221',\n       '226', '224', '222', '225', '227', '223', '246', '240', '233',\n       '238', '236', '243', '231', '241', '245', '244', '239', '232',\n       '237', '242', '235', '234', '247', '229', '228', '230', '248',\n       '252', '253', '259', '250', '257', '264', '260', '254', '263',\n       '265', '256', '266', '261', '251', '262', '258', '255', '267',\n       '268', '249', '269', '270', '271', '272', '273',\n       'scantronic(50515)', '275', '277', '274', '276', '278', '279',\n       '280', '281', '282', '283', '284', '285', '286', '290', '287',\n       '288', '289', '291', '292', '293', '294', '295', '296', '301',\n       '313', '309', '302', '306', '304', '314', '307', '311', '310',\n       '300', '298', '308', '299', '297', '305', '312', '315', '303',\n       '316', '317', '318', '339', '341', '336', '335', '330', '328',\n       '332', '337', '323', '327', '333', '342', '343', '320', '322',\n       '338', '324', '321', '325', '331', '340', '319', '344', '329',\n       '326', '334', '345', '346', '347', '348', '349', '350', '352',\n       '351', '353', '354', '355', '356', '357', '358', '359', '375',\n       '363', '365', '376', '362', '372', '367', '364', '360', '370',\n       '366', '368', '373', '371', '369', '361', '374', '378', '379',\n       '377', '391', '388', '395', '393', '390', '381', '387', '384',\n       '394', '392', '389', '383', '386', '380', '385', '382', '396',\n       '397', '398', '399', '400', '401', '412', '410', '415', '402',\n       '413', '407', '414', '409', '417', '408', '411', '405', '416',\n       '406', '403', '418', '404', '419', '420', '421', '422', '423',\n       '424', '425', '426', '427', '428', '429', '430', '431', '433',\n       '434', '435', '432', '436', '437', '439', '438', '440', '441',\n       '457', '452', '456', '443', '448', '445', '453', '450', '451',\n       '458', '454', '442', '446', '447', '449', '455', '444', '459',\n       '460', '461', '462', '463', '464', '466', '465', '468', '467',\n       '469', '470', '471', '472', '473', '474', '475', '476', '477',\n       '478', '479', '480', '481', '482', '483', '484', '485', '486',\n       '487', '488', '489', '490', '491', '492', '493', '494', '495',\n       '496', '497', '498', '499', '500', '505', '507', '501', '503',\n       '502', '506', '504', '508', '509', '510', '511', 'tschur(50115)',\n       'tm3u7(50292)', 'tm3u12(50297)', 'g2admin(50626)',\n       'alukashin(50189)', '0', 'smirnovskiy(50114)', 'olouksha(50277)',\n       'tm3u10(50295)', 'kuraptsevas(50232)', 'tm3u11(50296)',\n       'tm3u8(50293)', 'agelgor(50280)', 'sfyodorov(50170)',\n       'aazakharov(50683)', 'dhirata(50726)', 'vstanin(50727)',\n       'yu_adam(50310)', 'dpshenay(50378)', 'stabnikov(50236)',\n       'tesis(50729)', 'sharnasmr(50728)', 'levchenya(50222)',\n       'ppatsey(50187)', 'luibov(50393)', 'tm5u5(50302)', 'aep(50261)',\n       'osm(50258)', 'tm5u11(50741)', 'georgekordas(50731)',\n       'dmalcov(50617)', 'tm5u6(50303)', 'ustinov(50601)',\n       'nataliakurakina(50360)', 'tm5u4(50301)', 'tm5u22(50752)',\n       'zhukov(50692)', 'tm5u25(50755)', 'timofeev(50761)',\n       'tm5u21(50751)', 'silan_rty(50494)', 'tm5u16(50746)',\n       'asklyuyev(50492)', 'morevae(50663)', 'ptgeos1(50533)',\n       'afrolov(50522)', 'kostromin.na(50764)'], dtype=object)"
     },
     "execution_count": 56,
     "metadata": {},
     "output_type": "execute_result"
    }
   ],
   "source": [
    "df_job_info['UserID'].unique()"
   ],
   "metadata": {
    "collapsed": false
   }
  },
  {
   "cell_type": "markdown",
   "source": [
    "============================================================================================="
   ],
   "metadata": {
    "collapsed": false
   }
  },
  {
   "cell_type": "code",
   "execution_count": 15,
   "outputs": [],
   "source": [
    "path_job_info_acct = '../files/slurm_jobinfo_acct.csv'\n",
    "df_job_info_acct = pd.read_csv(path_job_info_acct, low_memory=False)"
   ],
   "metadata": {
    "collapsed": false
   }
  },
  {
   "cell_type": "code",
   "execution_count": 16,
   "outputs": [
    {
     "data": {
      "text/plain": "         Unnamed: 0  Account  AdminComment  AllocCPUS AllocGRES  AllocNodes  \\\n0                 0  g2admin           NaN         56     gpu:0           1   \n1                 1  g2admin           NaN         56     gpu:0           1   \n2                 2  g2admin           NaN         56     gpu:0           1   \n3                 3  g2admin           NaN         56     gpu:0           1   \n4                 4  g2admin           NaN         56     gpu:0           1   \n...             ...      ...           ...        ...       ...         ...   \n1010372     1010372  ipntpph           NaN         56       NaN           0   \n1010373     1010373    cifra           NaN        168     gpu:0           3   \n1010374     1010374    cifra           NaN         56     gpu:0           1   \n1010375     1010375    cifra           NaN        168     gpu:0           3   \n1010376     1010376    cifra           NaN         56     gpu:0           1   \n\n                          AllocTRES  AssocID    AveCPU AveCPUFreq  ...  \\\n0          billing=56,cpu=56,node=1      764       NaN        NaN  ...   \n1               cpu=56,mem=0,node=1      764  02:16:25       123K  ...   \n2          billing=56,cpu=56,node=1      764       NaN        NaN  ...   \n3               cpu=56,mem=0,node=1      764  01:25:45       802K  ...   \n4          billing=56,cpu=56,node=1      764       NaN        NaN  ...   \n...                             ...      ...       ...        ...  ...   \n1010372                         NaN      554       NaN        NaN  ...   \n1010373  billing=168,cpu=168,node=3      694       NaN        NaN  ...   \n1010374         cpu=56,mem=0,node=1      694       NaN          0  ...   \n1010375  billing=168,cpu=168,node=3      694       NaN        NaN  ...   \n1010376         cpu=56,mem=0,node=1      694       NaN          0  ...   \n\n                                TRESUsageOutMin  \\\n0                                           NaN   \n1        energy=0,fs/disk=425,fs/lustre=3751042   \n2                                           NaN   \n3        energy=0,fs/disk=425,fs/lustre=2439107   \n4                                           NaN   \n...                                         ...   \n1010372                                     NaN   \n1010373                                     NaN   \n1010374                                     NaN   \n1010375                                     NaN   \n1010376                                     NaN   \n\n                                      TRESUsageOutMinNode  \\\n0                                                     NaN   \n1        energy=n01p143,fs/disk=n01p143,fs/lustre=n01p143   \n2                                                     NaN   \n3        energy=n01p152,fs/disk=n01p152,fs/lustre=n01p152   \n4                                                     NaN   \n...                                                   ...   \n1010372                                               NaN   \n1010373                                               NaN   \n1010374                                               NaN   \n1010375                                               NaN   \n1010376                                               NaN   \n\n           TRESUsageOutMinTask                         TRESUsageOutTot  \\\n0                          NaN                                     NaN   \n1        fs/disk=0,fs/lustre=0  energy=0,fs/disk=425,fs/lustre=3751042   \n2                          NaN                                     NaN   \n3        fs/disk=0,fs/lustre=0  energy=0,fs/disk=425,fs/lustre=2439107   \n4                          NaN                                     NaN   \n...                        ...                                     ...   \n1010372                    NaN                                     NaN   \n1010373                    NaN                                     NaN   \n1010374                    NaN                                     NaN   \n1010375                    NaN                                     NaN   \n1010376                    NaN                                     NaN   \n\n          UserID         User   UserCPU             WCKey WCKeyID  \\\n0        50619.0       gramsn  01:53:39          *g2admin  1733.0   \n1            NaN          NaN  01:53:39               NaN     NaN   \n2        50619.0       gramsn  01:10:38          *g2admin  1733.0   \n3            NaN          NaN  01:10:38               NaN     NaN   \n4        50619.0       gramsn  01:45:53          *g2admin  1733.0   \n...          ...          ...       ...               ...     ...   \n1010372  50482.0  shtyrkhunov  00:00:00  *default:default  1315.0   \n1010373  50594.0        cifra  00:00:00            *cifra  1630.0   \n1010374      NaN          NaN  00:00:00               NaN     NaN   \n1010375  50594.0        cifra  00:00:00            *cifra  1630.0   \n1010376      NaN          NaN  00:00:00               NaN     NaN   \n\n                                                   WorkDir  \n0                                    /lustre/tpa/slurm/run  \n1                                                      NaN  \n2                                    /lustre/tpa/slurm/run  \n3                                                      NaN  \n4                                    /lustre/tpa/slurm/run  \n...                                                    ...  \n1010372  /home/ipntpph/shtyrkhunov/SOLPS-ITER_1/SOLPS-I...  \n1010373  /home/cifra/Lytkina/kamen-3.3/to-0.3-time-step...  \n1010374                                                NaN  \n1010375  /home/cifra/Lytkina/kamen-1.3/to-0.227-time-st...  \n1010376                                                NaN  \n\n[1010377 rows x 109 columns]",
      "text/html": "<div>\n<style scoped>\n    .dataframe tbody tr th:only-of-type {\n        vertical-align: middle;\n    }\n\n    .dataframe tbody tr th {\n        vertical-align: top;\n    }\n\n    .dataframe thead th {\n        text-align: right;\n    }\n</style>\n<table border=\"1\" class=\"dataframe\">\n  <thead>\n    <tr style=\"text-align: right;\">\n      <th></th>\n      <th>Unnamed: 0</th>\n      <th>Account</th>\n      <th>AdminComment</th>\n      <th>AllocCPUS</th>\n      <th>AllocGRES</th>\n      <th>AllocNodes</th>\n      <th>AllocTRES</th>\n      <th>AssocID</th>\n      <th>AveCPU</th>\n      <th>AveCPUFreq</th>\n      <th>...</th>\n      <th>TRESUsageOutMin</th>\n      <th>TRESUsageOutMinNode</th>\n      <th>TRESUsageOutMinTask</th>\n      <th>TRESUsageOutTot</th>\n      <th>UserID</th>\n      <th>User</th>\n      <th>UserCPU</th>\n      <th>WCKey</th>\n      <th>WCKeyID</th>\n      <th>WorkDir</th>\n    </tr>\n  </thead>\n  <tbody>\n    <tr>\n      <th>0</th>\n      <td>0</td>\n      <td>g2admin</td>\n      <td>NaN</td>\n      <td>56</td>\n      <td>gpu:0</td>\n      <td>1</td>\n      <td>billing=56,cpu=56,node=1</td>\n      <td>764</td>\n      <td>NaN</td>\n      <td>NaN</td>\n      <td>...</td>\n      <td>NaN</td>\n      <td>NaN</td>\n      <td>NaN</td>\n      <td>NaN</td>\n      <td>50619.0</td>\n      <td>gramsn</td>\n      <td>01:53:39</td>\n      <td>*g2admin</td>\n      <td>1733.0</td>\n      <td>/lustre/tpa/slurm/run</td>\n    </tr>\n    <tr>\n      <th>1</th>\n      <td>1</td>\n      <td>g2admin</td>\n      <td>NaN</td>\n      <td>56</td>\n      <td>gpu:0</td>\n      <td>1</td>\n      <td>cpu=56,mem=0,node=1</td>\n      <td>764</td>\n      <td>02:16:25</td>\n      <td>123K</td>\n      <td>...</td>\n      <td>energy=0,fs/disk=425,fs/lustre=3751042</td>\n      <td>energy=n01p143,fs/disk=n01p143,fs/lustre=n01p143</td>\n      <td>fs/disk=0,fs/lustre=0</td>\n      <td>energy=0,fs/disk=425,fs/lustre=3751042</td>\n      <td>NaN</td>\n      <td>NaN</td>\n      <td>01:53:39</td>\n      <td>NaN</td>\n      <td>NaN</td>\n      <td>NaN</td>\n    </tr>\n    <tr>\n      <th>2</th>\n      <td>2</td>\n      <td>g2admin</td>\n      <td>NaN</td>\n      <td>56</td>\n      <td>gpu:0</td>\n      <td>1</td>\n      <td>billing=56,cpu=56,node=1</td>\n      <td>764</td>\n      <td>NaN</td>\n      <td>NaN</td>\n      <td>...</td>\n      <td>NaN</td>\n      <td>NaN</td>\n      <td>NaN</td>\n      <td>NaN</td>\n      <td>50619.0</td>\n      <td>gramsn</td>\n      <td>01:10:38</td>\n      <td>*g2admin</td>\n      <td>1733.0</td>\n      <td>/lustre/tpa/slurm/run</td>\n    </tr>\n    <tr>\n      <th>3</th>\n      <td>3</td>\n      <td>g2admin</td>\n      <td>NaN</td>\n      <td>56</td>\n      <td>gpu:0</td>\n      <td>1</td>\n      <td>cpu=56,mem=0,node=1</td>\n      <td>764</td>\n      <td>01:25:45</td>\n      <td>802K</td>\n      <td>...</td>\n      <td>energy=0,fs/disk=425,fs/lustre=2439107</td>\n      <td>energy=n01p152,fs/disk=n01p152,fs/lustre=n01p152</td>\n      <td>fs/disk=0,fs/lustre=0</td>\n      <td>energy=0,fs/disk=425,fs/lustre=2439107</td>\n      <td>NaN</td>\n      <td>NaN</td>\n      <td>01:10:38</td>\n      <td>NaN</td>\n      <td>NaN</td>\n      <td>NaN</td>\n    </tr>\n    <tr>\n      <th>4</th>\n      <td>4</td>\n      <td>g2admin</td>\n      <td>NaN</td>\n      <td>56</td>\n      <td>gpu:0</td>\n      <td>1</td>\n      <td>billing=56,cpu=56,node=1</td>\n      <td>764</td>\n      <td>NaN</td>\n      <td>NaN</td>\n      <td>...</td>\n      <td>NaN</td>\n      <td>NaN</td>\n      <td>NaN</td>\n      <td>NaN</td>\n      <td>50619.0</td>\n      <td>gramsn</td>\n      <td>01:45:53</td>\n      <td>*g2admin</td>\n      <td>1733.0</td>\n      <td>/lustre/tpa/slurm/run</td>\n    </tr>\n    <tr>\n      <th>...</th>\n      <td>...</td>\n      <td>...</td>\n      <td>...</td>\n      <td>...</td>\n      <td>...</td>\n      <td>...</td>\n      <td>...</td>\n      <td>...</td>\n      <td>...</td>\n      <td>...</td>\n      <td>...</td>\n      <td>...</td>\n      <td>...</td>\n      <td>...</td>\n      <td>...</td>\n      <td>...</td>\n      <td>...</td>\n      <td>...</td>\n      <td>...</td>\n      <td>...</td>\n      <td>...</td>\n    </tr>\n    <tr>\n      <th>1010372</th>\n      <td>1010372</td>\n      <td>ipntpph</td>\n      <td>NaN</td>\n      <td>56</td>\n      <td>NaN</td>\n      <td>0</td>\n      <td>NaN</td>\n      <td>554</td>\n      <td>NaN</td>\n      <td>NaN</td>\n      <td>...</td>\n      <td>NaN</td>\n      <td>NaN</td>\n      <td>NaN</td>\n      <td>NaN</td>\n      <td>50482.0</td>\n      <td>shtyrkhunov</td>\n      <td>00:00:00</td>\n      <td>*default:default</td>\n      <td>1315.0</td>\n      <td>/home/ipntpph/shtyrkhunov/SOLPS-ITER_1/SOLPS-I...</td>\n    </tr>\n    <tr>\n      <th>1010373</th>\n      <td>1010373</td>\n      <td>cifra</td>\n      <td>NaN</td>\n      <td>168</td>\n      <td>gpu:0</td>\n      <td>3</td>\n      <td>billing=168,cpu=168,node=3</td>\n      <td>694</td>\n      <td>NaN</td>\n      <td>NaN</td>\n      <td>...</td>\n      <td>NaN</td>\n      <td>NaN</td>\n      <td>NaN</td>\n      <td>NaN</td>\n      <td>50594.0</td>\n      <td>cifra</td>\n      <td>00:00:00</td>\n      <td>*cifra</td>\n      <td>1630.0</td>\n      <td>/home/cifra/Lytkina/kamen-3.3/to-0.3-time-step...</td>\n    </tr>\n    <tr>\n      <th>1010374</th>\n      <td>1010374</td>\n      <td>cifra</td>\n      <td>NaN</td>\n      <td>56</td>\n      <td>gpu:0</td>\n      <td>1</td>\n      <td>cpu=56,mem=0,node=1</td>\n      <td>694</td>\n      <td>NaN</td>\n      <td>0</td>\n      <td>...</td>\n      <td>NaN</td>\n      <td>NaN</td>\n      <td>NaN</td>\n      <td>NaN</td>\n      <td>NaN</td>\n      <td>NaN</td>\n      <td>00:00:00</td>\n      <td>NaN</td>\n      <td>NaN</td>\n      <td>NaN</td>\n    </tr>\n    <tr>\n      <th>1010375</th>\n      <td>1010375</td>\n      <td>cifra</td>\n      <td>NaN</td>\n      <td>168</td>\n      <td>gpu:0</td>\n      <td>3</td>\n      <td>billing=168,cpu=168,node=3</td>\n      <td>694</td>\n      <td>NaN</td>\n      <td>NaN</td>\n      <td>...</td>\n      <td>NaN</td>\n      <td>NaN</td>\n      <td>NaN</td>\n      <td>NaN</td>\n      <td>50594.0</td>\n      <td>cifra</td>\n      <td>00:00:00</td>\n      <td>*cifra</td>\n      <td>1630.0</td>\n      <td>/home/cifra/Lytkina/kamen-1.3/to-0.227-time-st...</td>\n    </tr>\n    <tr>\n      <th>1010376</th>\n      <td>1010376</td>\n      <td>cifra</td>\n      <td>NaN</td>\n      <td>56</td>\n      <td>gpu:0</td>\n      <td>1</td>\n      <td>cpu=56,mem=0,node=1</td>\n      <td>694</td>\n      <td>NaN</td>\n      <td>0</td>\n      <td>...</td>\n      <td>NaN</td>\n      <td>NaN</td>\n      <td>NaN</td>\n      <td>NaN</td>\n      <td>NaN</td>\n      <td>NaN</td>\n      <td>00:00:00</td>\n      <td>NaN</td>\n      <td>NaN</td>\n      <td>NaN</td>\n    </tr>\n  </tbody>\n</table>\n<p>1010377 rows × 109 columns</p>\n</div>"
     },
     "execution_count": 16,
     "metadata": {},
     "output_type": "execute_result"
    }
   ],
   "source": [
    "df_job_info_acct"
   ],
   "metadata": {
    "collapsed": false
   }
  },
  {
   "cell_type": "code",
   "execution_count": 23,
   "outputs": [
    {
     "data": {
      "text/plain": "['Unnamed: 0',\n 'Account',\n 'AdminComment',\n 'AllocCPUS',\n 'AllocGRES',\n 'AllocNodes',\n 'AllocTRES',\n 'AssocID',\n 'AveCPU',\n 'AveCPUFreq',\n 'AveDiskRead',\n 'AveDiskWrite',\n 'AvePages',\n 'AveRSS',\n 'AveVMSize',\n 'BlockID',\n 'Cluster',\n 'Comment',\n 'Constraints',\n 'ConsumedEnergy',\n 'ConsumedEnergyRaw',\n 'CPUTime',\n 'CPUTimeRAW',\n 'DerivedExitCode',\n 'Elapsed',\n 'ElapsedRaw',\n 'Eligible',\n 'End',\n 'ExitCode',\n 'Flags',\n 'GroupID',\n 'Group',\n 'JobID',\n 'JobIDRaw',\n 'JobName',\n 'Layout',\n 'MaxDiskRead',\n 'MaxDiskReadNode',\n 'MaxDiskReadTask',\n 'MaxDiskWrite',\n 'MaxDiskWriteNode',\n 'MaxDiskWriteTask',\n 'MaxPages',\n 'MaxPagesNode',\n 'MaxPagesTask',\n 'MaxRSS',\n 'MaxRSSNode',\n 'MaxRSSTask',\n 'MaxVMSize',\n 'MaxVMSizeNode',\n 'MaxVMSizeTask',\n 'McsLabel',\n 'MinCPU',\n 'MinCPUNode',\n 'MinCPUTask',\n 'NCPUs',\n 'NNodes',\n 'NodeList',\n 'NTasks',\n 'Priority',\n 'Partition',\n 'QOS',\n 'QOSRAW',\n 'Reason',\n 'ReqCPUFreq',\n 'ReqCPUFreqMin',\n 'ReqCPUFreqMax',\n 'ReqCPUFreqGov',\n 'ReqCPUS',\n 'ReqGRES',\n 'ReqMem',\n 'ReqNodes',\n 'ReqTRES',\n 'Reservation',\n 'Reservat',\n 'Reserved',\n 'ResvCPU',\n 'ResvCPURAW',\n 'Start',\n 'State',\n 'Submit',\n 'Suspended',\n 'SystemCPU',\n 'SystemComment',\n 'Timelimit',\n 'TimelimitRaw',\n 'TotalCPU',\n 'TRESUsageInAve',\n 'TRESUsageInMax',\n 'TRESUsageInMaxNode',\n 'TRESUsageInMaxTask',\n 'TRESUsageInMin',\n 'TRESUsageInMinNode',\n 'TRESUsageInMinTask',\n 'TRESUsageInTot',\n 'TRESUsageOutAve',\n 'TRESUsageOutMax',\n 'TRESUsageOutMaxNode',\n 'TRESUsageOutMaxTask',\n 'TRESUsageOutMin',\n 'TRESUsageOutMinNode',\n 'TRESUsageOutMinTask',\n 'TRESUsageOutTot',\n 'UserID',\n 'User',\n 'UserCPU',\n 'WCKey',\n 'WCKeyID',\n 'WorkDir']"
     },
     "execution_count": 23,
     "metadata": {},
     "output_type": "execute_result"
    }
   ],
   "source": [
    "list(df_job_info_acct.columns)"
   ],
   "metadata": {
    "collapsed": false
   }
  },
  {
   "cell_type": "code",
   "execution_count": 57,
   "outputs": [
    {
     "data": {
      "text/plain": "array(['gramsn', nan, 'asnegirev', 'pervms', 'eapra', 'veselova',\n       'shtyrkhunov', 'useribv', 'fyodorova', 'agarbaruk', 'linnik_s',\n       'ntibench', 'molchanov', 'korzueva', 'amatyushenko', 'max_exa',\n       'koshkaroveg', 'tarabaschuk', 'adanilishin', 'smirnovsi',\n       'nikolaev_d', 'nandreeva', 'tinakin', 'strashkov_d', 'senichenkov',\n       'pm_combuster', 'dkolmogorov', 'poletaeva', 'knikiforova',\n       'anton.panteleev', 'nbykov', 'dgorbatov', 'greshnkonst',\n       'golubkovvd', 'tm3u2', 'dnolde', 'galaev', 'romansky', 'pavlov',\n       'eusemakina', 'podmarkova', 'gataulin', 'stepasheva',\n       'iaroslavchern', 'ryazantsev_m', 'tm3u9', 'nikitaobraztsov',\n       'protasovmi', 'popovivan', 'amelnikova', 'sadikova', 'gultyaeva',\n       'travin', 'sokolovim', 'zasimovama', 'kolesnikev', 'verna',\n       'akanapin', 'ekuznetsov', 'd_belinskaya', 'starnovskaya',\n       'sergeymagazinov', 'ibanez', 'bronskiy', 'ubatov', 'bezdvornykh',\n       'root', 'cifra', 'omranmm', 'kotov', 'svolvenko', 'asifyoucared',\n       'shch', 'alexxy', 'n_shestakova', 'user50', 'kibalch', 'kkozlov',\n       'yerokhin', 'sergey.golubev', 'user12', 'semindg', 'pavaz',\n       'vpavlov', 'gnz11', 'averkiev', 'ckorikov', 'tm3u1', 'dprokhorov',\n       'olga.tushkanova', 'kir_vol', 'dpuzko', 'akorolev', 'litvda',\n       'degtyarnikovam', 'kbelyaev', 'pavelpetrov', 'degtam', 'dyubodb',\n       'gretsova_mv', 'tm3u5', 'scantronic', 'tschur', 'tm3u7', 'tm3u12',\n       'g2admin', 'alukashin', 'smirnovskiy', 'olouksha', 'tm3u10',\n       'kuraptsevas', 'tm3u11', 'tm3u8', 'agelgor', 'sfyodorov',\n       'aazakharov', 'dhirata', 'vstanin', 'yu_adam', 'dpshenay',\n       'stabnikov', 'tesis', 'sharnasmr', 'levchenya', 'ppatsey',\n       'luibov', 'tm5u5', 'aep', 'osm', 'tm5u11', 'georgekordas',\n       'dmalcov', 'tm5u6', 'ustinov', 'nataliakurakina', 'tm5u4',\n       'tm5u22', 'zhukov', 'tm5u25', 'timofeev', 'tm5u21', 'silan_rty',\n       'tm5u16', 'asklyuyev', 'morevae', 'ptgeos1', 'afrolov',\n       'kostromin.na'], dtype=object)"
     },
     "execution_count": 57,
     "metadata": {},
     "output_type": "execute_result"
    }
   ],
   "source": [
    "df_job_info_acct['User'].unique()"
   ],
   "metadata": {
    "collapsed": false
   }
  },
  {
   "cell_type": "code",
   "execution_count": 36,
   "outputs": [
    {
     "data": {
      "text/plain": "array([50619., 50119., 50456., 50701., 50104., 50482., 50195., 50665.,\n       50109., 50635., 50532., 50164., 50481., 50190., 50577., 50264.,\n       50625., 50121., 50341., 50636., 50666., 50674., 50638., 50102.,\n       50667., 50555., 50661., 50688., 50703., 50272., 50369., 50696.,\n       50687., 50287., 50123., 50501., 50260., 50390., 50539., 50608.,\n       50600., 50693., 50664., 50637., 50294., 50354., 50632., 50550.,\n       50631., 50609., 50498., 50111., 50233., 50342., 50339., 50344.,\n       50430., 50147., 50654., 50649., 50313., 50308., 50549., 50613.,\n       50672.,     0., 50594., 50633., 50235., 50418., 50671., 50606.,\n       50100., 50655., 50050., 50676., 50220., 50699., 50709., 50012.,\n       50420., 50653., 50383., 50174., 50656., 50700., 50286., 50628.,\n       50719., 50706., 50614., 50523., 50442., 50101., 50657., 50262.,\n       50502., 50544., 50290., 50515., 50115., 50292., 50297., 50626.,\n       50189., 50114., 50277., 50295., 50232., 50296., 50293., 50280.,\n       50170., 50683., 50726., 50727., 50310., 50378., 50236., 50729.,\n       50728., 50222., 50187., 50393., 50302., 50261., 50258., 50741.,\n       50731., 50617., 50303., 50601., 50360., 50301., 50752., 50692.,\n       50755., 50761., 50751., 50494., 50746., 50492., 50663., 50533.,\n       50522., 50764.])"
     },
     "execution_count": 36,
     "metadata": {},
     "output_type": "execute_result"
    }
   ],
   "source": [
    "df_user_id = df_job_info_acct['UserID'].dropna().unique()\n",
    "df_user_id"
   ],
   "metadata": {
    "collapsed": false
   }
  },
  {
   "cell_type": "code",
   "execution_count": 26,
   "outputs": [
    {
     "name": "stdout",
     "output_type": "stream",
     "text": [
      "<class 'pandas.core.frame.DataFrame'>\n",
      "RangeIndex: 1010377 entries, 0 to 1010376\n",
      "Columns: 109 entries, Unnamed: 0 to WorkDir\n",
      "dtypes: float64(22), int64(10), object(77)\n",
      "memory usage: 840.2+ MB\n"
     ]
    }
   ],
   "source": [
    "df_job_info_acct.info()"
   ],
   "metadata": {
    "collapsed": false
   }
  },
  {
   "cell_type": "code",
   "execution_count": 27,
   "outputs": [
    {
     "data": {
      "text/plain": "         Unnamed: 0  AdminComment     AllocCPUS    AllocNodes       AssocID  \\\ncount  1.010377e+06           0.0  1.010377e+06  1.010377e+06  1.010377e+06   \nmean   5.051880e+05           NaN  5.774812e+01  1.037825e+00  7.576855e+02   \nstd    2.916709e+05           NaN  8.106908e+01  1.573147e+00  1.203465e+02   \nmin    0.000000e+00           NaN  1.000000e+00  0.000000e+00  2.000000e+00   \n25%    2.525940e+05           NaN  5.600000e+01  1.000000e+00  7.640000e+02   \n50%    5.051880e+05           NaN  5.600000e+01  1.000000e+00  7.640000e+02   \n75%    7.577820e+05           NaN  5.600000e+01  1.000000e+00  7.980000e+02   \nmax    1.010376e+06           NaN  6.720000e+03  1.200000e+02  9.370000e+02   \n\n       BlockID  ConsumedEnergy  ConsumedEnergyRaw    CPUTimeRAW    ElapsedRaw  \\\ncount      0.0        568482.0           568482.0  1.010377e+06  1.010377e+06   \nmean       NaN             0.0                0.0  5.658405e+05  5.999673e+03   \nstd        NaN             0.0                0.0  1.144432e+07  4.110117e+04   \nmin        NaN             0.0                0.0  0.000000e+00  0.000000e+00   \n25%        NaN             0.0                0.0  4.928000e+03  8.800000e+01   \n50%        NaN             0.0                0.0  1.388800e+04  2.420000e+02   \n75%        NaN             0.0                0.0  7.739200e+04  1.315000e+03   \nmax        NaN             0.0                0.0  2.177335e+09  1.209634e+06   \n\n       ...         QOSRAW       ReqCPUS  ReqGRES      ReqNodes       Reservat  \\\ncount  ...  550284.000000  1.010377e+06      0.0  1.010377e+06  147626.000000   \nmean   ...      11.669900  2.966788e+01      NaN  1.144263e+00     296.810758   \nstd    ...       7.721835  5.263968e+01      NaN  1.619594e+00      34.611997   \nmin    ...       1.000000  1.000000e+00      NaN  1.000000e+00     248.000000   \n25%    ...       8.000000  1.000000e+00      NaN  1.000000e+00     250.000000   \n50%    ...       8.000000  8.000000e+00      NaN  1.000000e+00     323.000000   \n75%    ...      19.000000  5.600000e+01      NaN  1.000000e+00     323.000000   \nmax    ...      30.000000  4.088000e+03      NaN  3.000000e+02     333.000000   \n\n         ResvCPURAW  SystemComment   TimelimitRaw         UserID  \\\ncount  5.502840e+05            0.0  550284.000000  550277.000000   \nmean   9.248943e+04            NaN    3065.788124   50578.213929   \nstd    7.958259e+06            NaN    2239.478517     208.740290   \nmin    0.000000e+00            NaN       1.000000       0.000000   \n25%    3.000000e+00            NaN    2880.000000   50482.000000   \n50%    8.340000e+02            NaN    2880.000000   50619.000000   \n75%    7.637000e+03            NaN    2880.000000   50633.000000   \nmax    2.086946e+09            NaN   69120.000000   50764.000000   \n\n             WCKeyID  \ncount  550284.000000  \nmean     1717.607922  \nstd       202.872840  \nmin       344.000000  \n25%      1733.000000  \n50%      1746.000000  \n75%      1780.000000  \nmax      2010.000000  \n\n[8 rows x 32 columns]",
      "text/html": "<div>\n<style scoped>\n    .dataframe tbody tr th:only-of-type {\n        vertical-align: middle;\n    }\n\n    .dataframe tbody tr th {\n        vertical-align: top;\n    }\n\n    .dataframe thead th {\n        text-align: right;\n    }\n</style>\n<table border=\"1\" class=\"dataframe\">\n  <thead>\n    <tr style=\"text-align: right;\">\n      <th></th>\n      <th>Unnamed: 0</th>\n      <th>AdminComment</th>\n      <th>AllocCPUS</th>\n      <th>AllocNodes</th>\n      <th>AssocID</th>\n      <th>BlockID</th>\n      <th>ConsumedEnergy</th>\n      <th>ConsumedEnergyRaw</th>\n      <th>CPUTimeRAW</th>\n      <th>ElapsedRaw</th>\n      <th>...</th>\n      <th>QOSRAW</th>\n      <th>ReqCPUS</th>\n      <th>ReqGRES</th>\n      <th>ReqNodes</th>\n      <th>Reservat</th>\n      <th>ResvCPURAW</th>\n      <th>SystemComment</th>\n      <th>TimelimitRaw</th>\n      <th>UserID</th>\n      <th>WCKeyID</th>\n    </tr>\n  </thead>\n  <tbody>\n    <tr>\n      <th>count</th>\n      <td>1.010377e+06</td>\n      <td>0.0</td>\n      <td>1.010377e+06</td>\n      <td>1.010377e+06</td>\n      <td>1.010377e+06</td>\n      <td>0.0</td>\n      <td>568482.0</td>\n      <td>568482.0</td>\n      <td>1.010377e+06</td>\n      <td>1.010377e+06</td>\n      <td>...</td>\n      <td>550284.000000</td>\n      <td>1.010377e+06</td>\n      <td>0.0</td>\n      <td>1.010377e+06</td>\n      <td>147626.000000</td>\n      <td>5.502840e+05</td>\n      <td>0.0</td>\n      <td>550284.000000</td>\n      <td>550277.000000</td>\n      <td>550284.000000</td>\n    </tr>\n    <tr>\n      <th>mean</th>\n      <td>5.051880e+05</td>\n      <td>NaN</td>\n      <td>5.774812e+01</td>\n      <td>1.037825e+00</td>\n      <td>7.576855e+02</td>\n      <td>NaN</td>\n      <td>0.0</td>\n      <td>0.0</td>\n      <td>5.658405e+05</td>\n      <td>5.999673e+03</td>\n      <td>...</td>\n      <td>11.669900</td>\n      <td>2.966788e+01</td>\n      <td>NaN</td>\n      <td>1.144263e+00</td>\n      <td>296.810758</td>\n      <td>9.248943e+04</td>\n      <td>NaN</td>\n      <td>3065.788124</td>\n      <td>50578.213929</td>\n      <td>1717.607922</td>\n    </tr>\n    <tr>\n      <th>std</th>\n      <td>2.916709e+05</td>\n      <td>NaN</td>\n      <td>8.106908e+01</td>\n      <td>1.573147e+00</td>\n      <td>1.203465e+02</td>\n      <td>NaN</td>\n      <td>0.0</td>\n      <td>0.0</td>\n      <td>1.144432e+07</td>\n      <td>4.110117e+04</td>\n      <td>...</td>\n      <td>7.721835</td>\n      <td>5.263968e+01</td>\n      <td>NaN</td>\n      <td>1.619594e+00</td>\n      <td>34.611997</td>\n      <td>7.958259e+06</td>\n      <td>NaN</td>\n      <td>2239.478517</td>\n      <td>208.740290</td>\n      <td>202.872840</td>\n    </tr>\n    <tr>\n      <th>min</th>\n      <td>0.000000e+00</td>\n      <td>NaN</td>\n      <td>1.000000e+00</td>\n      <td>0.000000e+00</td>\n      <td>2.000000e+00</td>\n      <td>NaN</td>\n      <td>0.0</td>\n      <td>0.0</td>\n      <td>0.000000e+00</td>\n      <td>0.000000e+00</td>\n      <td>...</td>\n      <td>1.000000</td>\n      <td>1.000000e+00</td>\n      <td>NaN</td>\n      <td>1.000000e+00</td>\n      <td>248.000000</td>\n      <td>0.000000e+00</td>\n      <td>NaN</td>\n      <td>1.000000</td>\n      <td>0.000000</td>\n      <td>344.000000</td>\n    </tr>\n    <tr>\n      <th>25%</th>\n      <td>2.525940e+05</td>\n      <td>NaN</td>\n      <td>5.600000e+01</td>\n      <td>1.000000e+00</td>\n      <td>7.640000e+02</td>\n      <td>NaN</td>\n      <td>0.0</td>\n      <td>0.0</td>\n      <td>4.928000e+03</td>\n      <td>8.800000e+01</td>\n      <td>...</td>\n      <td>8.000000</td>\n      <td>1.000000e+00</td>\n      <td>NaN</td>\n      <td>1.000000e+00</td>\n      <td>250.000000</td>\n      <td>3.000000e+00</td>\n      <td>NaN</td>\n      <td>2880.000000</td>\n      <td>50482.000000</td>\n      <td>1733.000000</td>\n    </tr>\n    <tr>\n      <th>50%</th>\n      <td>5.051880e+05</td>\n      <td>NaN</td>\n      <td>5.600000e+01</td>\n      <td>1.000000e+00</td>\n      <td>7.640000e+02</td>\n      <td>NaN</td>\n      <td>0.0</td>\n      <td>0.0</td>\n      <td>1.388800e+04</td>\n      <td>2.420000e+02</td>\n      <td>...</td>\n      <td>8.000000</td>\n      <td>8.000000e+00</td>\n      <td>NaN</td>\n      <td>1.000000e+00</td>\n      <td>323.000000</td>\n      <td>8.340000e+02</td>\n      <td>NaN</td>\n      <td>2880.000000</td>\n      <td>50619.000000</td>\n      <td>1746.000000</td>\n    </tr>\n    <tr>\n      <th>75%</th>\n      <td>7.577820e+05</td>\n      <td>NaN</td>\n      <td>5.600000e+01</td>\n      <td>1.000000e+00</td>\n      <td>7.980000e+02</td>\n      <td>NaN</td>\n      <td>0.0</td>\n      <td>0.0</td>\n      <td>7.739200e+04</td>\n      <td>1.315000e+03</td>\n      <td>...</td>\n      <td>19.000000</td>\n      <td>5.600000e+01</td>\n      <td>NaN</td>\n      <td>1.000000e+00</td>\n      <td>323.000000</td>\n      <td>7.637000e+03</td>\n      <td>NaN</td>\n      <td>2880.000000</td>\n      <td>50633.000000</td>\n      <td>1780.000000</td>\n    </tr>\n    <tr>\n      <th>max</th>\n      <td>1.010376e+06</td>\n      <td>NaN</td>\n      <td>6.720000e+03</td>\n      <td>1.200000e+02</td>\n      <td>9.370000e+02</td>\n      <td>NaN</td>\n      <td>0.0</td>\n      <td>0.0</td>\n      <td>2.177335e+09</td>\n      <td>1.209634e+06</td>\n      <td>...</td>\n      <td>30.000000</td>\n      <td>4.088000e+03</td>\n      <td>NaN</td>\n      <td>3.000000e+02</td>\n      <td>333.000000</td>\n      <td>2.086946e+09</td>\n      <td>NaN</td>\n      <td>69120.000000</td>\n      <td>50764.000000</td>\n      <td>2010.000000</td>\n    </tr>\n  </tbody>\n</table>\n<p>8 rows × 32 columns</p>\n</div>"
     },
     "execution_count": 27,
     "metadata": {},
     "output_type": "execute_result"
    }
   ],
   "source": [
    "df_job_info_acct.describe()"
   ],
   "metadata": {
    "collapsed": false
   }
  },
  {
   "cell_type": "code",
   "execution_count": 43,
   "outputs": [],
   "source": [
    "path_areas = '../files/areas.csv'\n",
    "df_areas = pd.read_csv(path_areas, low_memory=False)\n",
    "df_areas.columns = ['group', 'area']"
   ],
   "metadata": {
    "collapsed": false
   }
  },
  {
   "cell_type": "code",
   "execution_count": 44,
   "outputs": [
    {
     "data": {
      "text/plain": "      group            area\n0      agri  биоинформатика\n1    alexxy       биофизика\n2     aogoi          физика\n3    cadfem  машиностроение\n4     cifra  машиностроение\n..      ...             ...\n71  ranlpkb              IT\n72   scantr          физика\n73    sccg1          физика\n74    tsagi  машиностроение\n75   user50      энергетика\n\n[76 rows x 2 columns]",
      "text/html": "<div>\n<style scoped>\n    .dataframe tbody tr th:only-of-type {\n        vertical-align: middle;\n    }\n\n    .dataframe tbody tr th {\n        vertical-align: top;\n    }\n\n    .dataframe thead th {\n        text-align: right;\n    }\n</style>\n<table border=\"1\" class=\"dataframe\">\n  <thead>\n    <tr style=\"text-align: right;\">\n      <th></th>\n      <th>group</th>\n      <th>area</th>\n    </tr>\n  </thead>\n  <tbody>\n    <tr>\n      <th>0</th>\n      <td>agri</td>\n      <td>биоинформатика</td>\n    </tr>\n    <tr>\n      <th>1</th>\n      <td>alexxy</td>\n      <td>биофизика</td>\n    </tr>\n    <tr>\n      <th>2</th>\n      <td>aogoi</td>\n      <td>физика</td>\n    </tr>\n    <tr>\n      <th>3</th>\n      <td>cadfem</td>\n      <td>машиностроение</td>\n    </tr>\n    <tr>\n      <th>4</th>\n      <td>cifra</td>\n      <td>машиностроение</td>\n    </tr>\n    <tr>\n      <th>...</th>\n      <td>...</td>\n      <td>...</td>\n    </tr>\n    <tr>\n      <th>71</th>\n      <td>ranlpkb</td>\n      <td>IT</td>\n    </tr>\n    <tr>\n      <th>72</th>\n      <td>scantr</td>\n      <td>физика</td>\n    </tr>\n    <tr>\n      <th>73</th>\n      <td>sccg1</td>\n      <td>физика</td>\n    </tr>\n    <tr>\n      <th>74</th>\n      <td>tsagi</td>\n      <td>машиностроение</td>\n    </tr>\n    <tr>\n      <th>75</th>\n      <td>user50</td>\n      <td>энергетика</td>\n    </tr>\n  </tbody>\n</table>\n<p>76 rows × 2 columns</p>\n</div>"
     },
     "execution_count": 44,
     "metadata": {},
     "output_type": "execute_result"
    }
   ],
   "source": [
    "df_areas"
   ],
   "metadata": {
    "collapsed": false
   }
  },
  {
   "cell_type": "markdown",
   "source": [
    "=================================="
   ],
   "metadata": {
    "collapsed": false
   }
  },
  {
   "cell_type": "code",
   "execution_count": 37,
   "outputs": [
    {
     "name": "stdout",
     "output_type": "stream",
     "text": [
      "<class 'pandas.core.series.Series'>\n",
      "RangeIndex: 1010377 entries, 0 to 1010376\n",
      "Series name: Account\n",
      "Non-Null Count    Dtype \n",
      "--------------    ----- \n",
      "1010377 non-null  object\n",
      "dtypes: object(1)\n",
      "memory usage: 7.7+ MB\n"
     ]
    }
   ],
   "source": [
    "df_job_info_acct['Account'].info()"
   ],
   "metadata": {
    "collapsed": false
   }
  },
  {
   "cell_type": "code",
   "execution_count": 48,
   "outputs": [
    {
     "data": {
      "text/plain": "array(['agri', 'alexxy', 'aogoi', 'cadfem', 'cifra', 'cnti', 'cntilscm',\n       'cpi', 'g2admin', 'g2adminlim', 'gpnntc', 'ibsbnicigt', 'ibsbt',\n       'iehses', 'iethsapst', 'iethseph', 'ietniomin', 'ietsdagm',\n       'ietsee', 'ietskvht', 'ietskvht1', 'ietstgad2', 'ietstgad3',\n       'ietstvnkt', 'ietstvnkt1', 'ikntvspi', 'imsoran', 'ipgg', 'ipmmfd',\n       'ipmmfd1', 'ipmmstudy1', 'ipmmstudy2', 'ipmmtlmtk1', 'ipmmtm',\n       'ipntcee', 'ipnteph', 'ipnthsapst', 'ipnthsep1', 'ipntph',\n       'ipntphel1', 'ipntphsn', 'ipntpph', 'ipntqe', 'ipntsr', 'lcfdat',\n       'lcfdat_post', 'map3d', 'mktb', 'nilgdt', 'nilmbb', 'nilmvo',\n       'nilvim', 'nocftgmn', 'phmiph', 'powerm', 'ptgeos', 'ranibch',\n       'raniephb', 'ranlpkb', 'reset', 'root', 'scantr', 'sccg1', 'tesis',\n       'user12', 'user50'], dtype=object)"
     },
     "execution_count": 48,
     "metadata": {},
     "output_type": "execute_result"
    }
   ],
   "source": [
    "df_account = df_job_info_acct['Account'].unique()\n",
    "df_account.sort()\n",
    "df_account"
   ],
   "metadata": {
    "collapsed": false
   }
  },
  {
   "cell_type": "code",
   "execution_count": 55,
   "outputs": [
    {
     "name": "stdout",
     "output_type": "stream",
     "text": [
      "['agri', 'alexxy', 'aogoi', 'cadfem', 'cifra', 'cnti', 'cpi', 'g2admin', 'g2adminlim', 'gpnntc', 'ibsbnicigt', 'ibsbt', 'iehses', 'iethsapst', 'ietniomin', 'ietsdagm', 'ietsee', 'ietskvht', 'ietskvht1', 'ietstgad2', 'ietstgad3', 'ietstvnkt', 'ietstvnkt1', 'imsoran', 'ipgg', 'ipmmfd', 'ipmmfd1', 'ipmmstudy1', 'ipmmstudy2', 'ipmmtm', 'ipntcee', 'ipnteph', 'ipnthsapst', 'ipnthsep1', 'ipntph', 'ipntphel1', 'ipntphsn', 'ipntpph', 'ipntqe', 'ipntsr', 'lcfdat', 'lcfdat_post', 'map3d', 'mktb', 'nilmbb', 'nilmvo', 'nilvim', 'nocftgmn', 'phmiph', 'powerm', 'ptgeos', 'ranibch', 'raniephb', 'ranlpkb', 'scantr', 'sccg1', 'user50']\n",
      "Что не входит в account:\n",
      "{'ioran', 'immtllmk', 'niluts1', 'ikntcit', 'g2adminp', 'ibsbncmu', 'ipmmstudy3', 'niluts', 'iron', 'geovation', 'mfti', 'tsagi', 'ietstgad1', 'geoscan', 'ibsbhsbst', 'ippt', 'heco', 'ncmu', 'ietstoe'}\n",
      "===\n",
      "Что не входит в group_area:\n",
      "{'iethseph', 'root', 'tesis', 'ipmmtlmtk1', 'reset', 'cntilscm', 'ikntvspi', 'user12', 'nilgdt'}\n"
     ]
    }
   ],
   "source": [
    "# Определим пересечения и не пересекающиеся эл-ты\n",
    "set_group_area = set(df_areas['group'])\n",
    "set_account = set(df_account)\n",
    "group_area_account_intersection = set_group_area.intersection(set_account)\n",
    "llgroup_area_account_intersection = list(group_area_account_intersection)\n",
    "llgroup_area_account_intersection.sort()\n",
    "print(llgroup_area_account_intersection)\n",
    "\n",
    "print(\"Что не входит в account:\")\n",
    "print(set_group_area.difference(group_area_account_intersection))\n",
    "print(\"===\")\n",
    "print(\"Что не входит в group_area:\")\n",
    "print(set_account.difference(group_area_account_intersection))"
   ],
   "metadata": {
    "collapsed": false
   }
  },
  {
   "cell_type": "markdown",
   "source": [
    "'ioran', 'immtllmk', 'niluts1', 'ikntcit', 'g2adminp', 'ibsbncmu', 'ipmmstudy3', 'niluts', 'iron', 'geovation', 'mfti', 'tsagi', 'ietstgad1'\n",
    ", 'geoscan', 'ibsbhsbst', 'ippt', 'heco', 'ncmu', 'ietstoe'}"
   ],
   "metadata": {
    "collapsed": false
   }
  },
  {
   "cell_type": "code",
   "execution_count": null,
   "outputs": [],
   "source": [],
   "metadata": {
    "collapsed": false
   }
  },
  {
   "cell_type": "markdown",
   "source": [],
   "metadata": {
    "collapsed": false
   }
  }
 ],
 "metadata": {
  "kernelspec": {
   "display_name": "Python 3",
   "language": "python",
   "name": "python3"
  },
  "language_info": {
   "codemirror_mode": {
    "name": "ipython",
    "version": 2
   },
   "file_extension": ".py",
   "mimetype": "text/x-python",
   "name": "python",
   "nbconvert_exporter": "python",
   "pygments_lexer": "ipython2",
   "version": "2.7.6"
  }
 },
 "nbformat": 4,
 "nbformat_minor": 0
}
